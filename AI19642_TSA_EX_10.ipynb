{
  "nbformat": 4,
  "nbformat_minor": 0,
  "metadata": {
    "colab": {
      "provenance": [],
      "gpuType": "T4",
      "authorship_tag": "ABX9TyO+aLh7/S+1KSimV1FEooJ1"
    },
    "kernelspec": {
      "name": "python3",
      "display_name": "Python 3"
    },
    "language_info": {
      "name": "python"
    },
    "accelerator": "GPU"
  },
  "cells": [
    {
      "cell_type": "markdown",
      "source": [
        "# EX 10"
      ],
      "metadata": {
        "id": "JLNPXlO3X67S"
      }
    },
    {
      "cell_type": "markdown",
      "source": [
        "Develop vector auto regression model for multivariate time series data forecasting."
      ],
      "metadata": {
        "id": "QbdTltpUX9Wq"
      }
    },
    {
      "cell_type": "code",
      "source": [
        "pip install yfinance\n"
      ],
      "metadata": {
        "colab": {
          "base_uri": "https://localhost:8080/"
        },
        "id": "Dach0camhIoq",
        "outputId": "66c688fb-d1e4-45ff-bcd9-6401e7b6988d"
      },
      "execution_count": null,
      "outputs": [
        {
          "output_type": "stream",
          "name": "stdout",
          "text": [
            "Requirement already satisfied: yfinance in /usr/local/lib/python3.11/dist-packages (0.2.55)\n",
            "Requirement already satisfied: pandas>=1.3.0 in /usr/local/lib/python3.11/dist-packages (from yfinance) (2.2.2)\n",
            "Requirement already satisfied: numpy>=1.16.5 in /usr/local/lib/python3.11/dist-packages (from yfinance) (2.0.2)\n",
            "Requirement already satisfied: requests>=2.31 in /usr/local/lib/python3.11/dist-packages (from yfinance) (2.32.3)\n",
            "Requirement already satisfied: multitasking>=0.0.7 in /usr/local/lib/python3.11/dist-packages (from yfinance) (0.0.11)\n",
            "Requirement already satisfied: platformdirs>=2.0.0 in /usr/local/lib/python3.11/dist-packages (from yfinance) (4.3.7)\n",
            "Requirement already satisfied: pytz>=2022.5 in /usr/local/lib/python3.11/dist-packages (from yfinance) (2025.2)\n",
            "Requirement already satisfied: frozendict>=2.3.4 in /usr/local/lib/python3.11/dist-packages (from yfinance) (2.4.6)\n",
            "Requirement already satisfied: peewee>=3.16.2 in /usr/local/lib/python3.11/dist-packages (from yfinance) (3.17.9)\n",
            "Requirement already satisfied: beautifulsoup4>=4.11.1 in /usr/local/lib/python3.11/dist-packages (from yfinance) (4.13.4)\n",
            "Requirement already satisfied: soupsieve>1.2 in /usr/local/lib/python3.11/dist-packages (from beautifulsoup4>=4.11.1->yfinance) (2.6)\n",
            "Requirement already satisfied: typing-extensions>=4.0.0 in /usr/local/lib/python3.11/dist-packages (from beautifulsoup4>=4.11.1->yfinance) (4.13.2)\n",
            "Requirement already satisfied: python-dateutil>=2.8.2 in /usr/local/lib/python3.11/dist-packages (from pandas>=1.3.0->yfinance) (2.8.2)\n",
            "Requirement already satisfied: tzdata>=2022.7 in /usr/local/lib/python3.11/dist-packages (from pandas>=1.3.0->yfinance) (2025.2)\n",
            "Requirement already satisfied: charset-normalizer<4,>=2 in /usr/local/lib/python3.11/dist-packages (from requests>=2.31->yfinance) (3.4.1)\n",
            "Requirement already satisfied: idna<4,>=2.5 in /usr/local/lib/python3.11/dist-packages (from requests>=2.31->yfinance) (3.10)\n",
            "Requirement already satisfied: urllib3<3,>=1.21.1 in /usr/local/lib/python3.11/dist-packages (from requests>=2.31->yfinance) (2.3.0)\n",
            "Requirement already satisfied: certifi>=2017.4.17 in /usr/local/lib/python3.11/dist-packages (from requests>=2.31->yfinance) (2025.1.31)\n",
            "Requirement already satisfied: six>=1.5 in /usr/local/lib/python3.11/dist-packages (from python-dateutil>=2.8.2->pandas>=1.3.0->yfinance) (1.17.0)\n"
          ]
        }
      ]
    },
    {
      "cell_type": "markdown",
      "source": [
        "Step 2: Download Historical Stock Price Data"
      ],
      "metadata": {
        "id": "iTrZURW8hyRB"
      }
    },
    {
      "cell_type": "code",
      "source": [
        "import yfinance as yf\n",
        "\n",
        "# List of stock symbols (you can replace this with the stock symbols from your dataset)\n",
        "symbols = ['AAPL', 'GOOG', 'MSFT']  # Add more symbols as needed\n",
        "\n",
        "# Download historical stock price data for each symbol\n",
        "stock_data = {}\n",
        "for symbol in symbols:\n",
        "    stock_data[symbol] = yf.download(symbol, start=\"2010-01-01\", end=\"2023-01-01\")\n",
        "\n",
        "# Display the data for one of the symbols\n",
        "print(stock_data['AAPL'].head())\n"
      ],
      "metadata": {
        "colab": {
          "base_uri": "https://localhost:8080/"
        },
        "id": "37dxm4MDhnxA",
        "outputId": "47e3098f-fb8b-40a2-b8a6-c3f60f74cee5"
      },
      "execution_count": null,
      "outputs": [
        {
          "output_type": "stream",
          "name": "stdout",
          "text": [
            "YF.download() has changed argument auto_adjust default to True\n"
          ]
        },
        {
          "output_type": "stream",
          "name": "stderr",
          "text": [
            "[*********************100%***********************]  1 of 1 completed\n",
            "[*********************100%***********************]  1 of 1 completed\n",
            "[*********************100%***********************]  1 of 1 completed"
          ]
        },
        {
          "output_type": "stream",
          "name": "stdout",
          "text": [
            "Price          Close      High       Low      Open     Volume\n",
            "Ticker          AAPL      AAPL      AAPL      AAPL       AAPL\n",
            "Date                                                         \n",
            "2010-01-04  6.440331  6.455076  6.391278  6.422876  493729600\n",
            "2010-01-05  6.451465  6.487878  6.417459  6.458085  601904800\n",
            "2010-01-06  6.348845  6.477044  6.342225  6.451465  552160000\n",
            "2010-01-07  6.337109  6.379842  6.291066  6.372319  477131200\n",
            "2010-01-08  6.379241  6.379843  6.291368  6.328684  447610800\n"
          ]
        },
        {
          "output_type": "stream",
          "name": "stderr",
          "text": [
            "\n"
          ]
        }
      ]
    },
    {
      "cell_type": "markdown",
      "source": [
        "Step 3: Preprocess the Data"
      ],
      "metadata": {
        "id": "yEyh6L61h0lQ"
      }
    },
    {
      "cell_type": "code",
      "source": [
        "import pandas as pd\n",
        "\n",
        "# Extract the 'Close' prices and align the dates\n",
        "df_close = pd.DataFrame()\n",
        "for symbol in symbols:\n",
        "    df_close[symbol] = stock_data[symbol]['Close']\n",
        "\n",
        "# Drop any rows with missing values\n",
        "df_close = df_close.dropna()\n",
        "\n",
        "# Display the first few rows\n",
        "print(df_close.head())\n"
      ],
      "metadata": {
        "colab": {
          "base_uri": "https://localhost:8080/"
        },
        "id": "CfKkINnohi_h",
        "outputId": "1af82d14-367d-4f2b-ea35-d5a347a0a64f"
      },
      "execution_count": null,
      "outputs": [
        {
          "output_type": "stream",
          "name": "stdout",
          "text": [
            "                AAPL       GOOG       MSFT\n",
            "Date                                      \n",
            "2010-01-04  6.440331  15.536651  23.254051\n",
            "2010-01-05  6.451465  15.468232  23.261566\n",
            "2010-01-06  6.348845  15.078298  23.118816\n",
            "2010-01-07  6.337109  14.727282  22.878376\n",
            "2010-01-08  6.379241  14.923614  23.036160\n"
          ]
        }
      ]
    },
    {
      "cell_type": "markdown",
      "source": [
        "Step 4: Check Stationarity"
      ],
      "metadata": {
        "id": "GkywODUsh5Zw"
      }
    },
    {
      "cell_type": "code",
      "source": [
        "from statsmodels.tsa.stattools import adfuller\n",
        "\n",
        "# Function to check stationarity using ADF test\n",
        "def adf_test(series):\n",
        "    result = adfuller(series)\n",
        "    print(f'ADF Statistic: {result[0]}')\n",
        "    print(f'p-value: {result[1]}')\n",
        "    if result[1] <= 0.05:\n",
        "        print(\"The series is stationary.\")\n",
        "    else:\n",
        "        print(\"The series is not stationary.\")\n",
        "\n",
        "# Check stationarity for each stock's Close prices\n",
        "for symbol in df_close.columns:\n",
        "    print(f\"ADF test for {symbol} Close prices:\")\n",
        "    adf_test(df_close[symbol])\n",
        "    print(\"-\" * 50)\n"
      ],
      "metadata": {
        "colab": {
          "base_uri": "https://localhost:8080/"
        },
        "id": "RXbtcdZeh3Np",
        "outputId": "968deb3d-17b7-4647-f20e-1fc7cb59ef07"
      },
      "execution_count": null,
      "outputs": [
        {
          "output_type": "stream",
          "name": "stdout",
          "text": [
            "ADF test for AAPL Close prices:\n",
            "ADF Statistic: -0.21779671358735178\n",
            "p-value: 0.9363667819305498\n",
            "The series is not stationary.\n",
            "--------------------------------------------------\n",
            "ADF test for GOOG Close prices:\n",
            "ADF Statistic: -0.5780248820389924\n",
            "p-value: 0.8758705933937427\n",
            "The series is not stationary.\n",
            "--------------------------------------------------\n",
            "ADF test for MSFT Close prices:\n",
            "ADF Statistic: 0.25634457818327255\n",
            "p-value: 0.9752505221860926\n",
            "The series is not stationary.\n",
            "--------------------------------------------------\n"
          ]
        }
      ]
    },
    {
      "cell_type": "markdown",
      "source": [
        "Step 5: Apply Differencing (if needed)"
      ],
      "metadata": {
        "id": "3DU9dZ_Eh_mZ"
      }
    },
    {
      "cell_type": "code",
      "source": [
        "# Apply differencing to make the series stationary\n",
        "df_diff = df_close.diff().dropna()\n",
        "\n",
        "# Check stationarity again after differencing\n",
        "for symbol in df_diff.columns:\n",
        "    print(f\"ADF test for differenced {symbol} Close prices:\")\n",
        "    adf_test(df_diff[symbol])\n",
        "    print(\"-\" * 50)\n"
      ],
      "metadata": {
        "colab": {
          "base_uri": "https://localhost:8080/"
        },
        "id": "1Q9jjaSvh65p",
        "outputId": "1fdecdc1-20f2-4120-be3c-c283478d7c67"
      },
      "execution_count": null,
      "outputs": [
        {
          "output_type": "stream",
          "name": "stdout",
          "text": [
            "ADF test for differenced AAPL Close prices:\n",
            "ADF Statistic: -11.591568055747363\n",
            "p-value: 2.7838126205253725e-21\n",
            "The series is stationary.\n",
            "--------------------------------------------------\n",
            "ADF test for differenced GOOG Close prices:\n",
            "ADF Statistic: -13.18628857120727\n",
            "p-value: 1.1683451237857802e-24\n",
            "The series is stationary.\n",
            "--------------------------------------------------\n",
            "ADF test for differenced MSFT Close prices:\n",
            "ADF Statistic: -16.03438767278611\n",
            "p-value: 6.008453439193508e-29\n",
            "The series is stationary.\n",
            "--------------------------------------------------\n"
          ]
        }
      ]
    },
    {
      "cell_type": "markdown",
      "source": [
        "Step 6: Fit the VAR Model"
      ],
      "metadata": {
        "id": "5QpzwMgWiFph"
      }
    },
    {
      "cell_type": "code",
      "source": [
        "from statsmodels.tsa.api import VAR\n",
        "\n",
        "# Fit the VAR model to the differenced data\n",
        "model = VAR(df_diff)\n",
        "\n",
        "# Use AIC to determine the optimal lag order\n",
        "lag_order = model.select_order(maxlags=15).aic\n",
        "print(f'Optimal lag order: {lag_order}')\n",
        "\n",
        "# Fit the VAR model with the selected lag order\n",
        "var_model = model.fit(lag_order)\n",
        "print(var_model.summary())\n"
      ],
      "metadata": {
        "colab": {
          "base_uri": "https://localhost:8080/"
        },
        "id": "nnWz5pNwiBWB",
        "outputId": "f30b4749-064d-4b8e-a414-f938e0438b42"
      },
      "execution_count": null,
      "outputs": [
        {
          "output_type": "stream",
          "name": "stderr",
          "text": [
            "/usr/local/lib/python3.11/dist-packages/statsmodels/tsa/base/tsa_model.py:473: ValueWarning: A date index has been provided, but it has no associated frequency information and so will be ignored when e.g. forecasting.\n",
            "  self._init_dates(dates, freq)\n"
          ]
        },
        {
          "output_type": "stream",
          "name": "stdout",
          "text": [
            "Optimal lag order: 15\n",
            "  Summary of Regression Results   \n",
            "==================================\n",
            "Model:                         VAR\n",
            "Method:                        OLS\n",
            "Date:           Tue, 22, Apr, 2025\n",
            "Time:                     03:26:31\n",
            "--------------------------------------------------------------------\n",
            "No. of Equations:         3.00000    BIC:                   0.927833\n",
            "Nobs:                     3256.00    HQIC:                  0.762223\n",
            "Log likelihood:          -14812.6    FPE:                    1.95384\n",
            "AIC:                     0.669792    Det(Omega_mle):         1.87332\n",
            "--------------------------------------------------------------------\n",
            "Results for equation AAPL\n",
            "===========================================================================\n",
            "              coefficient       std. error           t-stat            prob\n",
            "---------------------------------------------------------------------------\n",
            "const            0.037133         0.023706            1.566           0.117\n",
            "L1.AAPL         -0.039218         0.027336           -1.435           0.151\n",
            "L1.GOOG         -0.019121         0.034920           -0.548           0.584\n",
            "L1.MSFT          0.008657         0.018932            0.457           0.647\n",
            "L2.AAPL         -0.086271         0.027337           -3.156           0.002\n",
            "L2.GOOG          0.023154         0.034862            0.664           0.507\n",
            "L2.MSFT          0.019441         0.018955            1.026           0.305\n",
            "L3.AAPL         -0.107186         0.027429           -3.908           0.000\n",
            "L3.GOOG         -0.030166         0.034872           -0.865           0.387\n",
            "L3.MSFT          0.086994         0.018945            4.592           0.000\n",
            "L4.AAPL         -0.058746         0.027594           -2.129           0.033\n",
            "L4.GOOG          0.005992         0.034976            0.171           0.864\n",
            "L4.MSFT          0.046394         0.019035            2.437           0.015\n",
            "L5.AAPL          0.061386         0.027589            2.225           0.026\n",
            "L5.GOOG         -0.088248         0.034949           -2.525           0.012\n",
            "L5.MSFT          0.033330         0.019099            1.745           0.081\n",
            "L6.AAPL          0.092689         0.027644            3.353           0.001\n",
            "L6.GOOG         -0.006809         0.035016           -0.194           0.846\n",
            "L6.MSFT         -0.066295         0.019195           -3.454           0.001\n",
            "L7.AAPL         -0.039538         0.027733           -1.426           0.154\n",
            "L7.GOOG          0.018745         0.035019            0.535           0.592\n",
            "L7.MSFT          0.044090         0.019203            2.296           0.022\n",
            "L8.AAPL          0.006752         0.027758            0.243           0.808\n",
            "L8.GOOG         -0.058772         0.035013           -1.679           0.093\n",
            "L8.MSFT         -0.015742         0.019210           -0.819           0.413\n",
            "L9.AAPL         -0.051428         0.027671           -1.859           0.063\n",
            "L9.GOOG         -0.058519         0.034997           -1.672           0.095\n",
            "L9.MSFT          0.092002         0.019227            4.785           0.000\n",
            "L10.AAPL        -0.008212         0.027574           -0.298           0.766\n",
            "L10.GOOG         0.059953         0.035037            1.711           0.087\n",
            "L10.MSFT        -0.044988         0.019304           -2.330           0.020\n",
            "L11.AAPL         0.082173         0.027686            2.968           0.003\n",
            "L11.GOOG         0.069642         0.034856            1.998           0.046\n",
            "L11.MSFT        -0.057721         0.019265           -2.996           0.003\n",
            "L12.AAPL         0.017964         0.027718            0.648           0.517\n",
            "L12.GOOG         0.011243         0.034895            0.322           0.747\n",
            "L12.MSFT        -0.022524         0.019297           -1.167           0.243\n",
            "L13.AAPL         0.022490         0.027602            0.815           0.415\n",
            "L13.GOOG         0.042316         0.034861            1.214           0.225\n",
            "L13.MSFT        -0.035451         0.019120           -1.854           0.064\n",
            "L14.AAPL         0.013957         0.027631            0.505           0.613\n",
            "L14.GOOG        -0.086607         0.034914           -2.481           0.013\n",
            "L14.MSFT         0.029999         0.019137            1.568           0.117\n",
            "L15.AAPL         0.061246         0.027629            2.217           0.027\n",
            "L15.GOOG         0.014617         0.034918            0.419           0.676\n",
            "L15.MSFT        -0.062083         0.019022           -3.264           0.001\n",
            "===========================================================================\n",
            "\n",
            "Results for equation GOOG\n",
            "===========================================================================\n",
            "              coefficient       std. error           t-stat            prob\n",
            "---------------------------------------------------------------------------\n",
            "const            0.022735         0.019388            1.173           0.241\n",
            "L1.AAPL         -0.014527         0.022358           -0.650           0.516\n",
            "L1.GOOG         -0.025591         0.028561           -0.896           0.370\n",
            "L1.MSFT         -0.009518         0.015485           -0.615           0.539\n",
            "L2.AAPL         -0.089406         0.022359           -3.999           0.000\n",
            "L2.GOOG          0.040362         0.028513            1.416           0.157\n",
            "L2.MSFT          0.008430         0.015503            0.544           0.587\n",
            "L3.AAPL         -0.067452         0.022434           -3.007           0.003\n",
            "L3.GOOG         -0.104456         0.028521           -3.662           0.000\n",
            "L3.MSFT          0.069533         0.015495            4.488           0.000\n",
            "L4.AAPL         -0.072277         0.022569           -3.203           0.001\n",
            "L4.GOOG         -0.078832         0.028606           -2.756           0.006\n",
            "L4.MSFT          0.076549         0.015569            4.917           0.000\n",
            "L5.AAPL         -0.028333         0.022564           -1.256           0.209\n",
            "L5.GOOG         -0.102654         0.028584           -3.591           0.000\n",
            "L5.MSFT          0.069682         0.015621            4.461           0.000\n",
            "L6.AAPL          0.003851         0.022610            0.170           0.865\n",
            "L6.GOOG          0.038562         0.028639            1.346           0.178\n",
            "L6.MSFT         -0.037947         0.015699           -2.417           0.016\n",
            "L7.AAPL          0.029588         0.022682            1.304           0.192\n",
            "L7.GOOG         -0.032520         0.028642           -1.135           0.256\n",
            "L7.MSFT          0.011945         0.015706            0.761           0.447\n",
            "L8.AAPL          0.032107         0.022703            1.414           0.157\n",
            "L8.GOOG         -0.047313         0.028637           -1.652           0.098\n",
            "L8.MSFT         -0.009207         0.015711           -0.586           0.558\n",
            "L9.AAPL         -0.027996         0.022632           -1.237           0.216\n",
            "L9.GOOG         -0.049925         0.028623           -1.744           0.081\n",
            "L9.MSFT          0.072722         0.015726            4.624           0.000\n",
            "L10.AAPL        -0.071997         0.022552           -3.192           0.001\n",
            "L10.GOOG         0.049031         0.028656            1.711           0.087\n",
            "L10.MSFT         0.012421         0.015789            0.787           0.431\n",
            "L11.AAPL         0.077985         0.022644            3.444           0.001\n",
            "L11.GOOG        -0.070751         0.028508           -2.482           0.013\n",
            "L11.MSFT        -0.005371         0.015756           -0.341           0.733\n",
            "L12.AAPL        -0.016191         0.022670           -0.714           0.475\n",
            "L12.GOOG        -0.039158         0.028540           -1.372           0.170\n",
            "L12.MSFT         0.023164         0.015783            1.468           0.142\n",
            "L13.AAPL        -0.019616         0.022575           -0.869           0.385\n",
            "L13.GOOG         0.052749         0.028512            1.850           0.064\n",
            "L13.MSFT        -0.013046         0.015638           -0.834           0.404\n",
            "L14.AAPL         0.020916         0.022599            0.926           0.355\n",
            "L14.GOOG        -0.078685         0.028556           -2.755           0.006\n",
            "L14.MSFT         0.038931         0.015652            2.487           0.013\n",
            "L15.AAPL         0.010642         0.022597            0.471           0.638\n",
            "L15.GOOG         0.026297         0.028559            0.921           0.357\n",
            "L15.MSFT        -0.023539         0.015558           -1.513           0.130\n",
            "===========================================================================\n",
            "\n",
            "Results for equation MSFT\n",
            "===========================================================================\n",
            "              coefficient       std. error           t-stat            prob\n",
            "---------------------------------------------------------------------------\n",
            "const            0.083427         0.040698            2.050           0.040\n",
            "L1.AAPL         -0.014116         0.046931           -0.301           0.764\n",
            "L1.GOOG         -0.063001         0.059951           -1.051           0.293\n",
            "L1.MSFT         -0.081062         0.032503           -2.494           0.013\n",
            "L2.AAPL         -0.228256         0.046933           -4.863           0.000\n",
            "L2.GOOG          0.084833         0.059851            1.417           0.156\n",
            "L2.MSFT          0.052977         0.032543            1.628           0.104\n",
            "L3.AAPL         -0.277345         0.047090           -5.890           0.000\n",
            "L3.GOOG         -0.220493         0.059868           -3.683           0.000\n",
            "L3.MSFT          0.179218         0.032525            5.510           0.000\n",
            "L4.AAPL         -0.047087         0.047374           -0.994           0.320\n",
            "L4.GOOG         -0.073044         0.060047           -1.216           0.224\n",
            "L4.MSFT          0.051103         0.032680            1.564           0.118\n",
            "L5.AAPL          0.114007         0.047364            2.407           0.016\n",
            "L5.GOOG         -0.091608         0.060000           -1.527           0.127\n",
            "L5.MSFT          0.011963         0.032789            0.365           0.715\n",
            "L6.AAPL          0.009721         0.047460            0.205           0.838\n",
            "L6.GOOG          0.081775         0.060116            1.360           0.174\n",
            "L6.MSFT         -0.079448         0.032953           -2.411           0.016\n",
            "L7.AAPL          0.048635         0.047611            1.021           0.307\n",
            "L7.GOOG          0.031577         0.060121            0.525           0.599\n",
            "L7.MSFT         -0.002944         0.032967           -0.089           0.929\n",
            "L8.AAPL          0.097750         0.047655            2.051           0.040\n",
            "L8.GOOG         -0.108076         0.060111           -1.798           0.072\n",
            "L8.MSFT         -0.076483         0.032980           -2.319           0.020\n",
            "L9.AAPL         -0.019459         0.047506           -0.410           0.682\n",
            "L9.GOOG         -0.043756         0.060082           -0.728           0.466\n",
            "L9.MSFT          0.115603         0.033009            3.502           0.000\n",
            "L10.AAPL        -0.166752         0.047338           -3.523           0.000\n",
            "L10.GOOG         0.098586         0.060151            1.639           0.101\n",
            "L10.MSFT         0.010742         0.033142            0.324           0.746\n",
            "L11.AAPL         0.147795         0.047531            3.109           0.002\n",
            "L11.GOOG        -0.015384         0.059841           -0.257           0.797\n",
            "L11.MSFT        -0.097574         0.033073           -2.950           0.003\n",
            "L12.AAPL         0.039815         0.047586            0.837           0.403\n",
            "L12.GOOG        -0.013292         0.059908           -0.222           0.824\n",
            "L12.MSFT        -0.028678         0.033130           -0.866           0.387\n",
            "L13.AAPL        -0.070491         0.047387           -1.488           0.137\n",
            "L13.GOOG         0.122215         0.059849            2.042           0.041\n",
            "L13.MSFT        -0.017095         0.032825           -0.521           0.603\n",
            "L14.AAPL        -0.058211         0.047437           -1.227           0.220\n",
            "L14.GOOG        -0.146302         0.059941           -2.441           0.015\n",
            "L14.MSFT         0.102197         0.032854            3.111           0.002\n",
            "L15.AAPL         0.021813         0.047433            0.460           0.646\n",
            "L15.GOOG         0.088003         0.059947            1.468           0.142\n",
            "L15.MSFT        -0.084142         0.032658           -2.577           0.010\n",
            "===========================================================================\n",
            "\n",
            "Correlation matrix of residuals\n",
            "            AAPL      GOOG      MSFT\n",
            "AAPL    1.000000  0.664639  0.754386\n",
            "GOOG    0.664639  1.000000  0.777278\n",
            "MSFT    0.754386  0.777278  1.000000\n",
            "\n",
            "\n",
            "\n"
          ]
        }
      ]
    },
    {
      "cell_type": "markdown",
      "source": [
        "Step 7: Forecasting"
      ],
      "metadata": {
        "id": "Nrxgfz2miKKB"
      }
    },
    {
      "cell_type": "code",
      "source": [
        "# Number of steps to forecast\n",
        "forecast_steps = 10\n",
        "\n",
        "# Generate forecasted values\n",
        "forecast_values = var_model.forecast(df_diff.values[-lag_order:], steps=forecast_steps)\n",
        "\n",
        "# Convert forecasted values to a DataFrame\n",
        "forecast_df = pd.DataFrame(forecast_values,\n",
        "                           index=pd.date_range(df_diff.index[-1], periods=forecast_steps+1, freq='B')[1:],\n",
        "                           columns=df_diff.columns)\n",
        "\n",
        "# Display the forecasted data\n",
        "print(forecast_df.head())\n"
      ],
      "metadata": {
        "colab": {
          "base_uri": "https://localhost:8080/"
        },
        "id": "X4OW43iTiHuB",
        "outputId": "15199f17-6748-4352-87f1-85b86d0e7d38"
      },
      "execution_count": null,
      "outputs": [
        {
          "output_type": "stream",
          "name": "stdout",
          "text": [
            "                AAPL      GOOG      MSFT\n",
            "2023-01-02 -0.057854  0.506288  1.552534\n",
            "2023-01-03 -0.265045  0.176771 -0.504087\n",
            "2023-01-04 -0.086882  0.132421  0.661558\n",
            "2023-01-05 -0.468745 -0.551070 -0.776199\n",
            "2023-01-06  0.398532 -0.070032  0.282641\n"
          ]
        }
      ]
    },
    {
      "cell_type": "markdown",
      "source": [
        "Step 8: Visualize Forecast vs. Actual"
      ],
      "metadata": {
        "id": "k5ayU1LliOLJ"
      }
    },
    {
      "cell_type": "code",
      "source": [
        "import matplotlib.pyplot as plt\n",
        "\n",
        "# Plot the actual vs forecasted values\n",
        "plt.figure(figsize=(10, 6))\n",
        "for symbol in df_diff.columns:\n",
        "    plt.plot(df_close.index, df_close[symbol], label=f'Actual {symbol}')\n",
        "    plt.plot(forecast_df.index, forecast_df[symbol], label=f'Forecast {symbol}', linestyle='--')\n",
        "\n",
        "plt.legend()\n",
        "plt.title('Actual vs Forecasted Stock Prices')\n",
        "plt.xlabel('Date')\n",
        "plt.ylabel('Price')\n",
        "plt.show()\n"
      ],
      "metadata": {
        "colab": {
          "base_uri": "https://localhost:8080/",
          "height": 554
        },
        "id": "3CRSnGxTiL75",
        "outputId": "83da8b51-d3fb-47c2-f944-1fa468fbdcd9"
      },
      "execution_count": null,
      "outputs": [
        {
          "output_type": "display_data",
          "data": {
            "text/plain": [
              "<Figure size 1000x600 with 1 Axes>"
            ],
            "image/png": "[encoded data removed]"
          },
          "metadata": {}
        }
      ]
    },
    {
      "cell_type": "markdown",
      "source": [
        "Step 9: Evaluate the Model's Performance (e.g., RMSE)"
      ],
      "metadata": {
        "id": "Uz7AbCz3iXRZ"
      }
    },
    {
      "cell_type": "code",
      "source": [
        "from sklearn.metrics import mean_squared_error\n",
        "import numpy as np\n",
        "\n",
        "# Calculate RMSE between actual and forecasted values\n",
        "rmse = np.sqrt(mean_squared_error(df_close[-forecast_steps:], forecast_df))\n",
        "print(f'RMSE: {rmse}')\n"
      ],
      "metadata": {
        "colab": {
          "base_uri": "https://localhost:8080/"
        },
        "id": "_z72viPCiP0h",
        "outputId": "6322af54-9f3a-46de-b99a-57ff856edf22"
      },
      "execution_count": null,
      "outputs": [
        {
          "output_type": "stream",
          "name": "stdout",
          "text": [
            "RMSE: 163.5085403193716\n"
          ]
        }
      ]
    },
    {
      "cell_type": "code",
      "source": [],
      "metadata": {
        "id": "gdSUP94NiZBR"
      },
      "execution_count": null,
      "outputs": []
    }
  ]
}